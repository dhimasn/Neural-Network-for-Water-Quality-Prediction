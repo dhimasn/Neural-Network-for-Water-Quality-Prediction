{
 "cells": [
  {
   "cell_type": "markdown",
   "metadata": {},
   "source": [
    "# Feature Selection\n",
    "There are 32 features available in the cleaned data that can be used to build the model. Limiting the set of features in the prediction model is essential for good performance, but prediction accuracy may be degraded by the inadvertent removal of relevant features. Domain complexity often attributes of real-world problems and should be taken into consideration.\n",
    "Features for the intended model are selected based on two criteria:\n",
    "1. Relevancy to water quality goal. The goal of this project is to explore the possibility of predicting total nitrogen (tn) and total phosphorus with easily measurable features, to save and resources. We compared the cost of measuring each feature based on the [federal code of regulation approved testing procedures](https://www.ecfr.gov/cgi-bin/text-idx?SID=a6bb8a02b6d783f9356758b5ff0ed106&mc=true&node=pt40.25.136&rgn=div5).\n",
    "2. Statistical test score for features relationship to target variables. A subset of features is selected based on their score on Pearson’s correlation to target variables. Pearson’s correlation is commonly used for continuous variables. Pearson’s correlation value varies from -1 to +1. Features with relatively highly Pearson’s correlation values (absolute value) are good predictors of the target variable. "
   ]
  },
  {
   "cell_type": "code",
   "execution_count": 17,
   "metadata": {},
   "outputs": [
    {
     "data": {
      "text/html": [
       "<div>\n",
       "<style scoped>\n",
       "    .dataframe tbody tr th:only-of-type {\n",
       "        vertical-align: middle;\n",
       "    }\n",
       "\n",
       "    .dataframe tbody tr th {\n",
       "        vertical-align: top;\n",
       "    }\n",
       "\n",
       "    .dataframe thead th {\n",
       "        text-align: right;\n",
       "    }\n",
       "</style>\n",
       "<table border=\"1\" class=\"dataframe\">\n",
       "  <thead>\n",
       "    <tr style=\"text-align: right;\">\n",
       "      <th></th>\n",
       "      <th>nama_sungai</th>\n",
       "      <th>titik_pantau</th>\n",
       "      <th>bujur_timur</th>\n",
       "      <th>lintang_selatan</th>\n",
       "      <th>parameter</th>\n",
       "      <th>satuan</th>\n",
       "      <th>baku_mutu</th>\n",
       "      <th>hasil_analisa</th>\n",
       "    </tr>\n",
       "  </thead>\n",
       "  <tbody>\n",
       "    <tr>\n",
       "      <th>0</th>\n",
       "      <td>Sungai Ciliwung</td>\n",
       "      <td>1</td>\n",
       "      <td>E: 106�50'17.72\"</td>\n",
       "      <td>S: 06�20'48.04\"</td>\n",
       "      <td>Suhu</td>\n",
       "      <td>0C</td>\n",
       "      <td>0.0</td>\n",
       "      <td>24</td>\n",
       "    </tr>\n",
       "    <tr>\n",
       "      <th>1</th>\n",
       "      <td>Sungai Ciliwung</td>\n",
       "      <td>1</td>\n",
       "      <td>E: 106�50'17.72\"</td>\n",
       "      <td>S: 06�20'48.04\"</td>\n",
       "      <td>Zat padat terlarut (TDS)</td>\n",
       "      <td>mg/L</td>\n",
       "      <td>50.0</td>\n",
       "      <td>80</td>\n",
       "    </tr>\n",
       "    <tr>\n",
       "      <th>2</th>\n",
       "      <td>Sungai Ciliwung</td>\n",
       "      <td>1</td>\n",
       "      <td>E: 106�50'17.72\"</td>\n",
       "      <td>S: 06�20'48.04\"</td>\n",
       "      <td>Zat padat tersuspensi (TSS)</td>\n",
       "      <td>mg/L</td>\n",
       "      <td>0.0</td>\n",
       "      <td>24</td>\n",
       "    </tr>\n",
       "    <tr>\n",
       "      <th>3</th>\n",
       "      <td>Sungai Ciliwung</td>\n",
       "      <td>1</td>\n",
       "      <td>E: 106�50'17.72\"</td>\n",
       "      <td>S: 06�20'48.04\"</td>\n",
       "      <td>pH</td>\n",
       "      <td>NaN</td>\n",
       "      <td>0.0</td>\n",
       "      <td>7</td>\n",
       "    </tr>\n",
       "    <tr>\n",
       "      <th>4</th>\n",
       "      <td>Sungai Ciliwung</td>\n",
       "      <td>1</td>\n",
       "      <td>E: 106�50'17.72\"</td>\n",
       "      <td>S: 06�20'48.04\"</td>\n",
       "      <td>BOD (20�C</td>\n",
       "      <td>NaN</td>\n",
       "      <td>0.0</td>\n",
       "      <td>NaN</td>\n",
       "    </tr>\n",
       "    <tr>\n",
       "      <th>5</th>\n",
       "      <td>Sungai Ciliwung</td>\n",
       "      <td>1</td>\n",
       "      <td>E: 106�50'17.72\"</td>\n",
       "      <td>S: 06�20'48.04\"</td>\n",
       "      <td>COD (dichromat)</td>\n",
       "      <td>mg/L</td>\n",
       "      <td>25.0</td>\n",
       "      <td>7</td>\n",
       "    </tr>\n",
       "    <tr>\n",
       "      <th>6</th>\n",
       "      <td>Sungai Ciliwung</td>\n",
       "      <td>1</td>\n",
       "      <td>E: 106�50'17.72\"</td>\n",
       "      <td>S: 06�20'48.04\"</td>\n",
       "      <td>Total Phosphat (PO4)</td>\n",
       "      <td>mg/L</td>\n",
       "      <td>0.0</td>\n",
       "      <td>0</td>\n",
       "    </tr>\n",
       "    <tr>\n",
       "      <th>7</th>\n",
       "      <td>Sungai Ciliwung</td>\n",
       "      <td>1</td>\n",
       "      <td>E: 106�50'17.72\"</td>\n",
       "      <td>S: 06�20'48.04\"</td>\n",
       "      <td>Nitrat</td>\n",
       "      <td>mg/L</td>\n",
       "      <td>10.0</td>\n",
       "      <td>1</td>\n",
       "    </tr>\n",
       "    <tr>\n",
       "      <th>8</th>\n",
       "      <td>Sungai Ciliwung</td>\n",
       "      <td>1</td>\n",
       "      <td>E: 106�50'17.72\"</td>\n",
       "      <td>S: 06�20'48.04\"</td>\n",
       "      <td>Kadmium (Cd)</td>\n",
       "      <td>mg/L</td>\n",
       "      <td>0.0</td>\n",
       "      <td>&lt;0</td>\n",
       "    </tr>\n",
       "    <tr>\n",
       "      <th>9</th>\n",
       "      <td>Sungai Ciliwung</td>\n",
       "      <td>1</td>\n",
       "      <td>E: 106�50'17.72\"</td>\n",
       "      <td>S: 06�20'48.04\"</td>\n",
       "      <td>Crom Hexavalen (Cr6+)</td>\n",
       "      <td>mg/L</td>\n",
       "      <td>0.0</td>\n",
       "      <td>*</td>\n",
       "    </tr>\n",
       "  </tbody>\n",
       "</table>\n",
       "</div>"
      ],
      "text/plain": [
       "       nama_sungai titik_pantau       bujur_timur  lintang_selatan  \\\n",
       "0  Sungai Ciliwung            1  E: 106�50'17.72\"  S: 06�20'48.04\"   \n",
       "1  Sungai Ciliwung            1  E: 106�50'17.72\"  S: 06�20'48.04\"   \n",
       "2  Sungai Ciliwung            1  E: 106�50'17.72\"  S: 06�20'48.04\"   \n",
       "3  Sungai Ciliwung            1  E: 106�50'17.72\"  S: 06�20'48.04\"   \n",
       "4  Sungai Ciliwung            1  E: 106�50'17.72\"  S: 06�20'48.04\"   \n",
       "5  Sungai Ciliwung            1  E: 106�50'17.72\"  S: 06�20'48.04\"   \n",
       "6  Sungai Ciliwung            1  E: 106�50'17.72\"  S: 06�20'48.04\"   \n",
       "7  Sungai Ciliwung            1  E: 106�50'17.72\"  S: 06�20'48.04\"   \n",
       "8  Sungai Ciliwung            1  E: 106�50'17.72\"  S: 06�20'48.04\"   \n",
       "9  Sungai Ciliwung            1  E: 106�50'17.72\"  S: 06�20'48.04\"   \n",
       "\n",
       "                     parameter satuan  baku_mutu hasil_analisa  \n",
       "0                         Suhu     0C        0.0            24  \n",
       "1     Zat padat terlarut (TDS)   mg/L       50.0            80  \n",
       "2  Zat padat tersuspensi (TSS)   mg/L        0.0            24  \n",
       "3                           pH    NaN        0.0             7  \n",
       "4                    BOD (20�C    NaN        0.0           NaN  \n",
       "5              COD (dichromat)   mg/L       25.0             7  \n",
       "6         Total Phosphat (PO4)   mg/L        0.0             0  \n",
       "7                       Nitrat   mg/L       10.0             1  \n",
       "8                 Kadmium (Cd)   mg/L        0.0            <0  \n",
       "9        Crom Hexavalen (Cr6+)   mg/L        0.0            *   "
      ]
     },
     "execution_count": 17,
     "metadata": {},
     "output_type": "execute_result"
    }
   ],
   "source": [
    "import pandas as pd\n",
    "import numpy as np\n",
    "import matplotlib.pyplot as plt\n",
    "import seaborn as sns\n",
    "from scipy.stats import norm, skew \n",
    "from sklearn.preprocessing import StandardScaler\n",
    "\n",
    "pd.options.display.max_columns = 150\n",
    "\n",
    "data = pd.read_csv('kualitas-air-sungai-periode-1-bulan-maret-tahun-2018.csv', index_col=None)\n",
    "data.drop(data.columns[8:63], axis=1, inplace=True)\n",
    "data.head(10)\n"
   ]
  },
  {
   "cell_type": "markdown",
   "metadata": {},
   "source": [
    "###  Feature data type"
   ]
  },
  {
   "cell_type": "code",
   "execution_count": 99,
   "metadata": {},
   "outputs": [
    {
     "data": {
      "text/plain": [
       "float64    28\n",
       "object      7\n",
       "dtype: int64"
      ]
     },
     "execution_count": 99,
     "metadata": {},
     "output_type": "execute_result"
    }
   ],
   "source": [
    "data.dtypes.value_counts()"
   ]
  },
  {
   "cell_type": "markdown",
   "metadata": {},
   "source": [
    "### Explore non-numeric features "
   ]
  },
  {
   "cell_type": "code",
   "execution_count": 18,
   "metadata": {},
   "outputs": [
    {
     "data": {
      "text/html": [
       "<div>\n",
       "<style scoped>\n",
       "    .dataframe tbody tr th:only-of-type {\n",
       "        vertical-align: middle;\n",
       "    }\n",
       "\n",
       "    .dataframe tbody tr th {\n",
       "        vertical-align: top;\n",
       "    }\n",
       "\n",
       "    .dataframe thead th {\n",
       "        text-align: right;\n",
       "    }\n",
       "</style>\n",
       "<table border=\"1\" class=\"dataframe\">\n",
       "  <thead>\n",
       "    <tr style=\"text-align: right;\">\n",
       "      <th></th>\n",
       "      <th>nama_sungai</th>\n",
       "      <th>titik_pantau</th>\n",
       "      <th>bujur_timur</th>\n",
       "      <th>lintang_selatan</th>\n",
       "      <th>parameter</th>\n",
       "      <th>satuan</th>\n",
       "      <th>hasil_analisa</th>\n",
       "    </tr>\n",
       "  </thead>\n",
       "  <tbody>\n",
       "    <tr>\n",
       "      <th>0</th>\n",
       "      <td>Sungai Ciliwung</td>\n",
       "      <td>1</td>\n",
       "      <td>E: 106�50'17.72\"</td>\n",
       "      <td>S: 06�20'48.04\"</td>\n",
       "      <td>Suhu</td>\n",
       "      <td>0C</td>\n",
       "      <td>24</td>\n",
       "    </tr>\n",
       "    <tr>\n",
       "      <th>1</th>\n",
       "      <td>Sungai Ciliwung</td>\n",
       "      <td>1</td>\n",
       "      <td>E: 106�50'17.72\"</td>\n",
       "      <td>S: 06�20'48.04\"</td>\n",
       "      <td>Zat padat terlarut (TDS)</td>\n",
       "      <td>mg/L</td>\n",
       "      <td>80</td>\n",
       "    </tr>\n",
       "    <tr>\n",
       "      <th>2</th>\n",
       "      <td>Sungai Ciliwung</td>\n",
       "      <td>1</td>\n",
       "      <td>E: 106�50'17.72\"</td>\n",
       "      <td>S: 06�20'48.04\"</td>\n",
       "      <td>Zat padat tersuspensi (TSS)</td>\n",
       "      <td>mg/L</td>\n",
       "      <td>24</td>\n",
       "    </tr>\n",
       "    <tr>\n",
       "      <th>3</th>\n",
       "      <td>Sungai Ciliwung</td>\n",
       "      <td>1</td>\n",
       "      <td>E: 106�50'17.72\"</td>\n",
       "      <td>S: 06�20'48.04\"</td>\n",
       "      <td>pH</td>\n",
       "      <td>NaN</td>\n",
       "      <td>7</td>\n",
       "    </tr>\n",
       "    <tr>\n",
       "      <th>4</th>\n",
       "      <td>Sungai Ciliwung</td>\n",
       "      <td>1</td>\n",
       "      <td>E: 106�50'17.72\"</td>\n",
       "      <td>S: 06�20'48.04\"</td>\n",
       "      <td>BOD (20�C</td>\n",
       "      <td>NaN</td>\n",
       "      <td>NaN</td>\n",
       "    </tr>\n",
       "  </tbody>\n",
       "</table>\n",
       "</div>"
      ],
      "text/plain": [
       "       nama_sungai titik_pantau       bujur_timur  lintang_selatan  \\\n",
       "0  Sungai Ciliwung            1  E: 106�50'17.72\"  S: 06�20'48.04\"   \n",
       "1  Sungai Ciliwung            1  E: 106�50'17.72\"  S: 06�20'48.04\"   \n",
       "2  Sungai Ciliwung            1  E: 106�50'17.72\"  S: 06�20'48.04\"   \n",
       "3  Sungai Ciliwung            1  E: 106�50'17.72\"  S: 06�20'48.04\"   \n",
       "4  Sungai Ciliwung            1  E: 106�50'17.72\"  S: 06�20'48.04\"   \n",
       "\n",
       "                     parameter satuan hasil_analisa  \n",
       "0                         Suhu     0C            24  \n",
       "1     Zat padat terlarut (TDS)   mg/L            80  \n",
       "2  Zat padat tersuspensi (TSS)   mg/L            24  \n",
       "3                           pH    NaN             7  \n",
       "4                    BOD (20�C    NaN           NaN  "
      ]
     },
     "execution_count": 18,
     "metadata": {},
     "output_type": "execute_result"
    }
   ],
   "source": [
    "non_numeric_features = data[data.select_dtypes(include=['object']).columns]\n",
    "non_numeric_features.head()"
   ]
  },
  {
   "cell_type": "markdown",
   "metadata": {},
   "source": [
    "'secmean' is listed as an object type though it represents continuous numeric data. This is likely due to data transformation problem."
   ]
  },
  {
   "cell_type": "code",
   "execution_count": 101,
   "metadata": {},
   "outputs": [],
   "source": [
    "data['secmean'] = pd.to_numeric(data['secmean'], errors = 'coerce')\n",
    "data['chla'] = pd.to_numeric(data['chla'], errors = 'coerce')"
   ]
  },
  {
   "cell_type": "code",
   "execution_count": 102,
   "metadata": {},
   "outputs": [
    {
     "data": {
      "text/plain": [
       "float64    30\n",
       "object      5\n",
       "dtype: int64"
      ]
     },
     "execution_count": 102,
     "metadata": {},
     "output_type": "execute_result"
    }
   ],
   "source": [
    "data.dtypes.value_counts()"
   ]
  },
  {
   "cell_type": "code",
   "execution_count": 104,
   "metadata": {},
   "outputs": [
    {
     "data": {
      "text/plain": [
       "Index(['id', 'date', 'epa_reg', 'urban', 'lake_origin'], dtype='object')"
      ]
     },
     "execution_count": 104,
     "metadata": {},
     "output_type": "execute_result"
    }
   ],
   "source": [
    "data.select_dtypes(include=('object')).columns"
   ]
  },
  {
   "cell_type": "code",
   "execution_count": 16,
   "metadata": {},
   "outputs": [],
   "source": [
    "# Save combined file \n",
    "data.to_csv('combined_2007&2012.csv', index=False)"
   ]
  },
  {
   "cell_type": "markdown",
   "metadata": {},
   "source": [
    "#### Select numeric features"
   ]
  },
  {
   "cell_type": "code",
   "execution_count": 7,
   "metadata": {},
   "outputs": [
    {
     "data": {
      "text/plain": [
       "Index(['lat', 'lon', 'area_ha', 'lake_perim', 'elv', 'ph', 'tn', 'tp', 'turb',\n",
       "       'cl', 'cond', 'na', 'doc', 'k', 'mg', 'ca', 'so4', 'sio2', 'chla',\n",
       "       'secmean', 'd18o_h2o', 'dd_h2o', 'e_i', 'rt'],\n",
       "      dtype='object')"
      ]
     },
     "execution_count": 7,
     "metadata": {},
     "output_type": "execute_result"
    }
   ],
   "source": [
    "features = data.select_dtypes(include = ['float', 'int']).columns\n",
    "features"
   ]
  },
  {
   "cell_type": "markdown",
   "metadata": {},
   "source": [
    "Latitude and longitude columns are not useful."
   ]
  },
  {
   "cell_type": "code",
   "execution_count": 8,
   "metadata": {},
   "outputs": [],
   "source": [
    "features = ['area_ha', 'lake_perim', 'elv', 'ph', 'turb', 'cl', 'cond', 'na', 'doc', 'k', \n",
    "                    'mg', 'ca', 'so4', 'sio2', 'chla', 'secmean', 'd18o_h2o', 'dd_h2o', 'e_i', 'rt']\n",
    "targets = ['tn', 'tp']"
   ]
  },
  {
   "cell_type": "code",
   "execution_count": 9,
   "metadata": {},
   "outputs": [],
   "source": [
    "# save data\n",
    "data[features].to_csv('features.csv', index=False)\n",
    "data[targets].to_csv('targets.csv', index=False)"
   ]
  },
  {
   "cell_type": "markdown",
   "metadata": {},
   "source": [
    "#### Filter features based on Pearson's Correlation"
   ]
  },
  {
   "cell_type": "code",
   "execution_count": 10,
   "metadata": {},
   "outputs": [],
   "source": [
    "del data['Unnamed: 0']"
   ]
  },
  {
   "cell_type": "code",
   "execution_count": 1,
   "metadata": {},
   "outputs": [
    {
     "ename": "NameError",
     "evalue": "name 'data' is not defined",
     "output_type": "error",
     "traceback": [
      "\u001b[1;31m\u001b[0m",
      "\u001b[1;31mNameError\u001b[0mTraceback (most recent call last)",
      "\u001b[1;32m<ipython-input-1-49f1dbbeef08>\u001b[0m in \u001b[0;36m<module>\u001b[1;34m()\u001b[0m\n\u001b[0;32m      1\u001b[0m \u001b[1;32mimport\u001b[0m \u001b[0mseaborn\u001b[0m \u001b[1;32mas\u001b[0m \u001b[0msns\u001b[0m\u001b[1;33m\u001b[0m\u001b[0m\n\u001b[0;32m      2\u001b[0m \u001b[1;33m\u001b[0m\u001b[0m\n\u001b[1;32m----> 3\u001b[1;33m \u001b[0mdataset\u001b[0m \u001b[1;33m=\u001b[0m \u001b[0mdata\u001b[0m\u001b[1;33m.\u001b[0m\u001b[0mdrop\u001b[0m\u001b[1;33m(\u001b[0m\u001b[1;33m[\u001b[0m\u001b[1;34m'lat'\u001b[0m\u001b[1;33m,\u001b[0m \u001b[1;34m'lon'\u001b[0m\u001b[1;33m]\u001b[0m\u001b[1;33m,\u001b[0m \u001b[0maxis\u001b[0m \u001b[1;33m=\u001b[0m \u001b[1;36m1\u001b[0m\u001b[1;33m)\u001b[0m\u001b[1;33m\u001b[0m\u001b[0m\n\u001b[0m\u001b[0;32m      4\u001b[0m \u001b[1;33m\u001b[0m\u001b[0m\n\u001b[0;32m      5\u001b[0m \u001b[0mfig\u001b[0m\u001b[1;33m,\u001b[0m \u001b[0max\u001b[0m \u001b[1;33m=\u001b[0m \u001b[0mplt\u001b[0m\u001b[1;33m.\u001b[0m\u001b[0msubplots\u001b[0m\u001b[1;33m(\u001b[0m\u001b[0mfigsize\u001b[0m\u001b[1;33m=\u001b[0m\u001b[1;33m(\u001b[0m\u001b[1;36m16\u001b[0m\u001b[1;33m,\u001b[0m \u001b[1;36m12\u001b[0m\u001b[1;33m)\u001b[0m\u001b[1;33m)\u001b[0m\u001b[1;33m\u001b[0m\u001b[0m\n",
      "\u001b[1;31mNameError\u001b[0m: name 'data' is not defined"
     ]
    }
   ],
   "source": [
    "import seaborn as sns\n",
    "\n",
    "dataset = data.drop(['lat', 'lon'], axis = 1)\n",
    "\n",
    "fig, ax = plt.subplots(figsize=(16, 12))\n",
    "plt.title('Pearson Correlation Matrix',fontsize=25)\n",
    "\n",
    "mask = np.zeros_like(dataset.corr(), dtype=np.bool) \n",
    "mask[np.triu_indices_from(mask)] = True \n",
    "\n",
    "sns.heatmap(dataset.corr(),linewidths=0.25,vmax=0.7,square=True,cmap=\"BuGn\", \n",
    "            linecolor='w',annot=True,annot_kws={\"size\":9},mask = mask,cbar_kws={\"shrink\": .9})"
   ]
  },
  {
   "cell_type": "code",
   "execution_count": 2,
   "metadata": {},
   "outputs": [
    {
     "ename": "NameError",
     "evalue": "name 'data' is not defined",
     "output_type": "error",
     "traceback": [
      "\u001b[1;31m\u001b[0m",
      "\u001b[1;31mNameError\u001b[0mTraceback (most recent call last)",
      "\u001b[1;32m<ipython-input-2-a8087340a5ef>\u001b[0m in \u001b[0;36m<module>\u001b[1;34m()\u001b[0m\n\u001b[1;32m----> 1\u001b[1;33m \u001b[0mabs_corr_coeffs_tn\u001b[0m \u001b[1;33m=\u001b[0m \u001b[0mdata\u001b[0m\u001b[1;33m.\u001b[0m\u001b[0mcorr\u001b[0m\u001b[1;33m(\u001b[0m\u001b[1;33m)\u001b[0m\u001b[1;33m[\u001b[0m\u001b[1;34m'tn'\u001b[0m\u001b[1;33m]\u001b[0m\u001b[1;33m.\u001b[0m\u001b[0mabs\u001b[0m\u001b[1;33m(\u001b[0m\u001b[1;33m)\u001b[0m\u001b[1;33m.\u001b[0m\u001b[0msort_values\u001b[0m\u001b[1;33m(\u001b[0m\u001b[0mascending\u001b[0m\u001b[1;33m=\u001b[0m\u001b[0mFalse\u001b[0m\u001b[1;33m)\u001b[0m\u001b[1;33m\u001b[0m\u001b[0m\n\u001b[0m\u001b[0;32m      2\u001b[0m \u001b[0mabs_corr_coeffs_tp\u001b[0m \u001b[1;33m=\u001b[0m \u001b[0mdata\u001b[0m\u001b[1;33m.\u001b[0m\u001b[0mcorr\u001b[0m\u001b[1;33m(\u001b[0m\u001b[1;33m)\u001b[0m\u001b[1;33m[\u001b[0m\u001b[1;34m'tp'\u001b[0m\u001b[1;33m]\u001b[0m\u001b[1;33m.\u001b[0m\u001b[0mabs\u001b[0m\u001b[1;33m(\u001b[0m\u001b[1;33m)\u001b[0m\u001b[1;33m.\u001b[0m\u001b[0msort_values\u001b[0m\u001b[1;33m(\u001b[0m\u001b[0mascending\u001b[0m\u001b[1;33m=\u001b[0m\u001b[0mFalse\u001b[0m\u001b[1;33m)\u001b[0m\u001b[1;33m\u001b[0m\u001b[0m\n",
      "\u001b[1;31mNameError\u001b[0m: name 'data' is not defined"
     ]
    }
   ],
   "source": [
    "abs_corr_coeffs_tn = data.corr()['tn'].abs().sort_values(ascending=False)\n",
    "abs_corr_coeffs_tp = data.corr()['tp'].abs().sort_values(ascending=False)"
   ]
  },
  {
   "cell_type": "markdown",
   "metadata": {},
   "source": [
    "#### Columns with a correlation coefficient of larger than 0.4 (arbitrary, to be experimented later!)"
   ]
  },
  {
   "cell_type": "code",
   "execution_count": 13,
   "metadata": {
    "scrolled": false
   },
   "outputs": [
    {
     "data": {
      "text/plain": [
       "tn          1.000000\n",
       "doc         0.697455\n",
       "tp          0.535672\n",
       "chla        0.530978\n",
       "k           0.484228\n",
       "turb        0.377628\n",
       "e_i         0.363015\n",
       "cond        0.328257\n",
       "ph          0.284322\n",
       "mg          0.252558\n",
       "sio2        0.252533\n",
       "secmean     0.230577\n",
       "d18o_h2o    0.222284\n",
       "so4         0.210891\n",
       "Name: tn, dtype: float64"
      ]
     },
     "execution_count": 13,
     "metadata": {},
     "output_type": "execute_result"
    }
   ],
   "source": [
    "abs_corr_coeffs_tn[abs_corr_coeffs_tn > 0.2]"
   ]
  },
  {
   "cell_type": "code",
   "execution_count": 14,
   "metadata": {},
   "outputs": [
    {
     "data": {
      "text/plain": [
       "tp      1.000000\n",
       "tn      0.535672\n",
       "cond    0.460879\n",
       "doc     0.449433\n",
       "turb    0.409627\n",
       "chla    0.400882\n",
       "so4     0.380975\n",
       "rt      0.364652\n",
       "na      0.348874\n",
       "e_i     0.289959\n",
       "k       0.284106\n",
       "ph      0.269193\n",
       "cl      0.251848\n",
       "sio2    0.208209\n",
       "Name: tp, dtype: float64"
      ]
     },
     "execution_count": 14,
     "metadata": {},
     "output_type": "execute_result"
    }
   ],
   "source": [
    "abs_corr_coeffs_tp[abs_corr_coeffs_tp > 0.2]"
   ]
  },
  {
   "cell_type": "markdown",
   "metadata": {},
   "source": [
    "The goal of this project is to predict total nitrogen and total phosphorus using relatively cost-effective and easily measurable features. After a thorough examination of testing procedures of features (at least correlated to target variables > 0.2) using [Code of Federal Regulation](https://www.ecfr.gov/cgi-bin/text-idx?SID=a6bb8a02b6d783f9356758b5ff0ed106&mc=true&node=pt40.25.136&rgn=div5), features are ranked as follows:"
   ]
  },
  {
   "cell_type": "code",
   "execution_count": 15,
   "metadata": {},
   "outputs": [],
   "source": [
    "feature_rank = {1:'ph', 2:'turb', 3:'cond', 4:'secmean', 5: 'doc', 6:'k', 7:'mg', \n",
    "                8:'so4', 9:'cl', 10: 'chla', 11: 'sio2', 11:'d18o_h2o', 13: 'dd_h2o', 14: 'e_i', 15: 'rt'}"
   ]
  },
  {
   "cell_type": "markdown",
   "metadata": {},
   "source": [
    "## Analyze the Target Feature¶"
   ]
  },
  {
   "cell_type": "code",
   "execution_count": 174,
   "metadata": {
    "scrolled": false
   },
   "outputs": [
    {
     "data": {
      "image/png": "[encoded data removed]",
      "text/plain": [
       "<Figure size 1152x432 with 2 Axes>"
      ]
     },
     "metadata": {},
     "output_type": "display_data"
    }
   ],
   "source": [
    "f, axes = plt.subplots(1, 2, figsize=(16, 6), sharex=False)\n",
    "\n",
    "sns.distplot(data['tn'], fit=norm, ax=axes[0])\n",
    "(mu, sigma) = norm.fit(data['tn'])\n",
    "plt.legend(['Normal dist. ($\\mu=$ {:.2f} and $\\sigma=$ {:.2f} )'.format(mu, sigma)],\n",
    "            loc='best')\n",
    "\n",
    "sns.distplot(data['tp'], fit=norm, ax=axes[1])\n",
    "(mu1, sigma1) = norm.fit(data['tp'])"
   ]
  },
  {
   "cell_type": "code",
   "execution_count": 176,
   "metadata": {},
   "outputs": [
    {
     "data": {
      "image/png": "[encoded data removed]",
      "text/plain": [
       "<Figure size 1152x504 with 2 Axes>"
      ]
     },
     "metadata": {},
     "output_type": "display_data"
    }
   ],
   "source": [
    "#Get also the QQ-plot\n",
    "fig = plt.figure(figsize=(16, 7))\n",
    "ax1 = fig.add_subplot(121)\n",
    "res = stats.probplot(data['tn'], plot=ax1)\n",
    "plt.title('Total Nitrogen')\n",
    "\n",
    "ax2 = fig.add_subplot(122)\n",
    "\n",
    "res = stats.probplot(data['tp'], plot=ax2)\n",
    "plt.title('Total Phosphorus')\n",
    "plt.show()"
   ]
  },
  {
   "cell_type": "code",
   "execution_count": 163,
   "metadata": {
    "scrolled": false
   },
   "outputs": [
    {
     "name": "stdout",
     "output_type": "stream",
     "text": [
      "Total Nitrogen Skewness: 6.569361\n",
      "Total Nitrogen Kurtosis: 58.874655\n"
     ]
    }
   ],
   "source": [
    "#skewness and kurtosis\n",
    "print(\"Total Nitrogen Skewness: %f\" % data['tn'].skew())\n",
    "print(\"Total Nitrogen Kurtosis: %f\" % data['tn'].kurt())"
   ]
  },
  {
   "cell_type": "code",
   "execution_count": 164,
   "metadata": {},
   "outputs": [
    {
     "name": "stdout",
     "output_type": "stream",
     "text": [
      "Total Phosphorus Skewness: 8.343294\n",
      "Total Phosphorus Kurtosis: 102.704318\n"
     ]
    }
   ],
   "source": [
    "#skewness and kurtosis\n",
    "print(\"Total Phosphorus Skewness: %f\" % data['tp'].skew())\n",
    "print(\"Total Phosphorus Kurtosis: %f\" % data['tp'].kurt())"
   ]
  },
  {
   "cell_type": "markdown",
   "metadata": {},
   "source": [
    "The target variables;\n",
    "+ The probability distribution for the total nitrogen and phosphorus data is right-skewed. \n",
    "+ Q-Q plots do not lie on a straight diagonal line\n",
    "+ The skewness and Kurtosis values deviate much from normal univariate distribution (between -2 and +2)\n",
    "These pieces of evidence suggest the dependent variables are not normally distributed."
   ]
  },
  {
   "cell_type": "markdown",
   "metadata": {},
   "source": [
    "### Check Multicollinearity\n",
    "\n",
    "Features highly correlated with each other as it affects the interpretability of a model as regression coefficients are not uniquely determined. Here, feature multicollinearity evaluated using a variance inflation factor.\n",
    "\n",
    "The variance inflation factor is defined as VIF = 1/T, where T is tolerance T = 1 – R². With VIF > 10 there is an indication that multicollinearity may be present; with VIF > 100 there is certainly multicollinearity among the variables.  "
   ]
  },
  {
   "cell_type": "code",
   "execution_count": 180,
   "metadata": {
    "scrolled": false
   },
   "outputs": [
    {
     "data": {
      "text/plain": [
       "sio2           1.187343\n",
       "turb           1.307774\n",
       "ph             1.323534\n",
       "chla           1.332954\n",
       "ca             1.386860\n",
       "secmean        1.432147\n",
       "rt             1.481038\n",
       "area_ha        1.957065\n",
       "lake_perim     1.961004\n",
       "cl             2.068618\n",
       "elv            2.130777\n",
       "k              3.009489\n",
       "e_i            3.555614\n",
       "doc            3.615904\n",
       "mg             4.256526\n",
       "so4            9.477203\n",
       "cond          12.087678\n",
       "na            15.292788\n",
       "dd_h2o        38.754032\n",
       "d18o_h2o      45.204643\n",
       "dtype: float64"
      ]
     },
     "execution_count": 180,
     "metadata": {},
     "output_type": "execute_result"
    }
   ],
   "source": [
    "df= pd.read_csv('features.csv')\n",
    "df_cor = df.corr()\n",
    "vifs = pd.Series(np.linalg.inv(df.corr().values).diagonal(), index=df_cor.index)\n",
    "vifs.sort_values()"
   ]
  },
  {
   "cell_type": "markdown",
   "metadata": {},
   "source": [
    "The VIF values are between 10 and 100. There is no strong evidence for the presence of multicollinearity according to our criteria. Therefore, all features will be considered."
   ]
  },
  {
   "cell_type": "markdown",
   "metadata": {},
   "source": [
    "## Check Outliers\n",
    "\n",
    "Outliers can markedly affect our models and can be a valuable source of information, providing us insights about specific behaviors. To establish a threshold for defining outliers, the data is standardized to have a mean of 0 and a standard deviation of 1."
   ]
  },
  {
   "cell_type": "code",
   "execution_count": 190,
   "metadata": {},
   "outputs": [
    {
     "name": "stdout",
     "output_type": "stream",
     "text": [
      "outer range (low) of the distribution for Total Nitrogen:\n",
      "----------------------------------------------------\n",
      "[[-0.54683053]\n",
      " [-0.5407978 ]\n",
      " [-0.53662129]\n",
      " [-0.53615723]\n",
      " [-0.53244478]\n",
      " [-0.53198072]\n",
      " [-0.53105261]\n",
      " [-0.53058855]\n",
      " [-0.52873233]\n",
      " [-0.5268761 ]]\n",
      "\n",
      "outer range (high) of the distribution Total Nitrogen:\n",
      "----------------------------------------------------\n",
      "[[ 5.86642985]\n",
      " [ 6.13326232]\n",
      " [ 6.19730211]\n",
      " [ 6.67295999]\n",
      " [ 6.70173149]\n",
      " [ 8.36073336]\n",
      " [ 9.94455808]\n",
      " [11.3483289 ]\n",
      " [11.35993031]\n",
      " [11.56272298]]\n",
      "outer range (low) of the distribution for Total Phosphorus:\n",
      "----------------------------------------------------\n",
      "[[-0.3710165 ]\n",
      " [-0.34117562]\n",
      " [-0.3643852 ]\n",
      " [-0.3710165 ]\n",
      " [-0.3643852 ]\n",
      " [-0.3710165 ]\n",
      " [-0.3710165 ]\n",
      " [-0.3643852 ]\n",
      " [-0.36106954]\n",
      " [-0.3643852 ]]\n",
      "\n",
      "outer range (high) of the distribution Total Phosphorus:\n",
      "----------------------------------------------------\n",
      "[[4.02222381]\n",
      " [1.10776477]\n",
      " [3.19331054]\n",
      " [4.98707885]\n",
      " [3.55140107]\n",
      " [3.12699748]\n",
      " [2.51691732]\n",
      " [6.74437498]\n",
      " [5.2523311 ]\n",
      " [4.56930657]]\n"
     ]
    }
   ],
   "source": [
    "#standardizing data\n",
    "tn_scaled = StandardScaler().fit_transform(data['tn'][:,np.newaxis]);\n",
    "low_range_tn = tn_scaled[tn_scaled[:,0].argsort()][:10]\n",
    "high_range_tn = tn_scaled[tn_scaled[:,0].argsort()][-10:]\n",
    "print('outer range (low) of the distribution for Total Nitrogen:' + '\\n' + '-'*52)\n",
    "print(low_range_tn)\n",
    "print('\\nouter range (high) of the distribution Total Nitrogen:'+  '\\n' + '-'*52)\n",
    "print(high_range_tn)\n",
    "tp_scaled = StandardScaler().fit_transform(data['tp'][:,np.newaxis]);\n",
    "low_range_tp = tp_scaled[tn_scaled[:,0].argsort()][:10]\n",
    "high_range_tp= tp_scaled[tn_scaled[:,0].argsort()][-10:]\n",
    "print('outer range (low) of the distribution for Total Phosphorus:' + '\\n' + '-'*52)\n",
    "print(low_range_tp)\n",
    "print('\\nouter range (high) of the distribution Total Phosphorus:'+  '\\n' + '-'*52)\n",
    "print(high_range_tp)"
   ]
  },
  {
   "cell_type": "markdown",
   "metadata": {},
   "source": [
    "+  The low range values are not too far from 0.\n",
    "+ The high range values are far from 0 with a maximum 11.5 on tn and 4.5 tp data. \n",
    "For now, these will be considered as an outlier but should be experimented on this later in the modeling exercise."
   ]
  }
 ],
 "metadata": {
  "kernelspec": {
   "display_name": "Python 2",
   "language": "python",
   "name": "python2"
  },
  "language_info": {
   "codemirror_mode": {
    "name": "ipython",
    "version": 2
   },
   "file_extension": ".py",
   "mimetype": "text/x-python",
   "name": "python",
   "nbconvert_exporter": "python",
   "pygments_lexer": "ipython2",
   "version": "2.7.16"
  }
 },
 "nbformat": 4,
 "nbformat_minor": 2
}
