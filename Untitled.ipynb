{
 "cells": [
  {
   "cell_type": "code",
   "execution_count": null,
   "id": "6ea02663",
   "metadata": {},
   "outputs": [],
   "source": [
    "#import database;\n"
   ]
  },
  {
   "cell_type": "code",
   "execution_count": 1,
   "id": "081139fa",
   "metadata": {},
   "outputs": [
    {
     "name": "stdout",
     "output_type": "stream",
     "text": [
      "Test Sample s belongs to Cluster :  0\n",
      "Trained weights :  [[0.6000000000000001, 0.8, 0.5, 0.9], [0.3333984375, 0.0666015625, 0.7, 0.3]]\n"
     ]
    }
   ],
   "source": [
    "import math\n",
    "\n",
    "\n",
    "class SOM :\n",
    "\t\n",
    "\t# Function here computes the winning vector\n",
    "\t# by Euclidean distance\n",
    "\tdef winner( self, weights, sample ) :\n",
    "\t\t\n",
    "\t\tD0 = 0\t\n",
    "\t\tD1 = 0\n",
    "\t\t\n",
    "\t\tfor i in range( len( sample ) ) :\n",
    "\t\t\t\n",
    "\t\t\tD0 = D0 + math.pow( ( sample[i] - weights[0][i] ), 2 )\n",
    "\t\t\tD1 = D1 + math.pow( ( sample[i] - weights[1][i] ), 2 )\n",
    "\t\t\t\n",
    "\t\t\tif D0 > D1 :\n",
    "\t\t\t\treturn 0\n",
    "\t\t\telse :\n",
    "\t\t\t\treturn 1\n",
    "\t\n",
    "\t# Function here updates the winning vector\n",
    "\tdef update( self, weights, sample, J, alpha ) :\n",
    "\t\t\n",
    "\t\tfor i in range( len ( weights ) ) :\n",
    "\t\t\tweights[J][i] = weights[J][i] + alpha * ( sample[i] - weights[J][i] )\n",
    "\n",
    "\t\treturn weights\n",
    "\n",
    "# Driver code\n",
    "def main() :\n",
    "\t\n",
    "\t# Training Examples ( m, n )\n",
    "\tT = [ [ 1, 1, 0, 0 ], [ 0, 0, 0, 1 ], [ 1, 0, 0, 0 ], [ 0, 0, 1, 1 ] ]\n",
    "\n",
    "\tm, n = len( T ), len( T[0] )\n",
    "\t\n",
    "\t# weight initialization ( n, C )\n",
    "\tweights = [ [ 0.2, 0.6, 0.5, 0.9 ], [ 0.8, 0.4, 0.7, 0.3 ] ]\n",
    "\t\n",
    "\t# training\n",
    "\tob = SOM()\n",
    "\t\n",
    "\tepochs = 3\n",
    "\talpha = 0.5\n",
    "\t\n",
    "\tfor i in range( epochs ) :\n",
    "\t\tfor j in range( m ) :\n",
    "\t\t\t\n",
    "\t\t\t# training sample\n",
    "\t\t\tsample = T[j]\n",
    "\t\t\t\n",
    "\t\t\t# Compute winner vector\n",
    "\t\t\tJ = ob.winner( weights, sample )\n",
    "\t\t\n",
    "\t\t\t# Update winning vector\n",
    "\t\t\tweights = ob.update( weights, sample, J, alpha )\n",
    "\t\t\t\n",
    "\t# classify test sample\n",
    "\ts = [ 0, 0, 0, 1 ]\n",
    "\tJ = ob.winner( weights, s )\n",
    "\t\n",
    "\tprint( \"Test Sample s belongs to Cluster : \", J )\n",
    "\tprint( \"Trained weights : \", weights )\n",
    "\t\n",
    "if __name__ == \"__main__\":\n",
    "\tmain()\n"
   ]
  }
 ],
 "metadata": {
  "kernelspec": {
   "display_name": "Python 3 (ipykernel)",
   "language": "python",
   "name": "python3"
  },
  "language_info": {
   "codemirror_mode": {
    "name": "ipython",
    "version": 3
   },
   "file_extension": ".py",
   "mimetype": "text/x-python",
   "name": "python",
   "nbconvert_exporter": "python",
   "pygments_lexer": "ipython3",
   "version": "3.9.7"
  }
 },
 "nbformat": 4,
 "nbformat_minor": 5
}
